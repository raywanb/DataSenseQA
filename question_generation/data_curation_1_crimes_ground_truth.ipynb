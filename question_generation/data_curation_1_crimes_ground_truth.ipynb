{
 "cells": [
  {
   "metadata": {},
   "cell_type": "markdown",
   "source": "# data_curation_1_crimes",
   "id": "4587bb1f8f6671b2"
  },
  {
   "metadata": {
    "ExecuteTime": {
     "end_time": "2024-12-14T23:07:36.763401Z",
     "start_time": "2024-12-14T23:07:35.330455Z"
    }
   },
   "cell_type": "code",
   "source": [
    "import pandas as pd\n",
    "import json\n",
    "\n",
    "# Load the CSV file\n",
    "data = pd.read_csv('../datasets/research/Crimes_-_2019.csv')\n",
    "\n",
    "data.head(10)"
   ],
   "id": "1dede4a23195f77a",
   "outputs": [
    {
     "data": {
      "text/plain": [
       "         ID Case Number                    Date                Block  IUCR  \\\n",
       "0  11662417    JC232642  04/21/2019 12:30:00 PM      009XX E 80TH ST  031A   \n",
       "1  12990873    JG161829  08/17/2019 01:14:00 PM   008XX N KARLOV AVE  1751   \n",
       "2  11630496    JC193727  03/16/2019 11:35:00 AM  045XX N LINCOLN AVE  0890   \n",
       "3  11632505    JC196841  03/20/2019 01:00:00 AM     013XX W HOOD AVE  0810   \n",
       "4  11765926    JC358692  07/21/2019 02:00:00 PM      002XX W 87TH ST  0810   \n",
       "5  11885224    JC502442  11/05/2019 08:00:00 PM   075XX S RHODES AVE  031A   \n",
       "6  13210699    JG424394  01/01/2019 12:01:00 AM      003XX W 64TH ST  1563   \n",
       "7  13211437    JG425074  01/13/2019 12:00:00 AM   009XX N HAMLIN AVE  0266   \n",
       "8  13211898    JG425742  03/24/2019 02:00:00 AM   017XX N WHIPPLE ST  0281   \n",
       "9  11842146    JC449875  09/26/2019 08:53:00 PM  083XX S SANGAMON ST  0650   \n",
       "\n",
       "                 Primary Type                             Description  \\\n",
       "0                     ROBBERY                         ARMED - HANDGUN   \n",
       "1  OFFENSE INVOLVING CHILDREN  CRIMINAL SEXUAL ABUSE BY FAMILY MEMBER   \n",
       "2                       THEFT                           FROM BUILDING   \n",
       "3                       THEFT                               OVER $500   \n",
       "4                       THEFT                               OVER $500   \n",
       "5                     ROBBERY                         ARMED - HANDGUN   \n",
       "6                 SEX OFFENSE                   CRIMINAL SEXUAL ABUSE   \n",
       "7     CRIMINAL SEXUAL ASSAULT                               PREDATORY   \n",
       "8     CRIMINAL SEXUAL ASSAULT                          NON-AGGRAVATED   \n",
       "9                    BURGLARY                           HOME INVASION   \n",
       "\n",
       "                     Location Description  Arrest  Domestic  ...  Ward  \\\n",
       "0                               RESIDENCE   False     False  ...   8.0   \n",
       "1                               RESIDENCE    True      True  ...  37.0   \n",
       "2                           BAR OR TAVERN   False     False  ...  47.0   \n",
       "3                                   OTHER   False     False  ...  48.0   \n",
       "4  PARKING LOT / GARAGE (NON RESIDENTIAL)   False     False  ...  21.0   \n",
       "5                                  STREET   False      True  ...   6.0   \n",
       "6             HOSPITAL BUILDING / GROUNDS   False     False  ...  20.0   \n",
       "7                               RESIDENCE   False     False  ...  27.0   \n",
       "8                               APARTMENT   False      True  ...  26.0   \n",
       "9                               RESIDENCE   False      True  ...  17.0   \n",
       "\n",
       "   Community Area  FBI Code  X Coordinate Y Coordinate  Year  \\\n",
       "0              44        03     1184044.0    1852159.0  2019   \n",
       "1              23        17     1148899.0    1905351.0  2019   \n",
       "2               4        06           NaN          NaN  2019   \n",
       "3              77        06           NaN          NaN  2019   \n",
       "4              44        06     1176436.0    1847222.0  2019   \n",
       "5              69        03     1181207.0    1855239.0  2019   \n",
       "6              68        17           NaN          NaN  2019   \n",
       "7              23        02           NaN          NaN  2019   \n",
       "8              23        02           NaN          NaN  2019   \n",
       "9              71        05     1171415.0    1849590.0  2019   \n",
       "\n",
       "               Updated On   Latitude  Longitude                       Location  \n",
       "0  09/14/2023 03:41:59 PM  41.749500 -87.601157    (41.749500329, -87.6011574)  \n",
       "1  09/14/2023 03:41:59 PM  41.896215 -87.728572   (41.89621515, -87.728572048)  \n",
       "2  03/23/2019 04:03:16 PM        NaN        NaN                            NaN  \n",
       "3  03/27/2019 04:10:11 PM        NaN        NaN                            NaN  \n",
       "4  09/15/2023 03:41:25 PM  41.736127 -87.629184  (41.736126864, -87.629184056)  \n",
       "5  09/15/2023 03:41:25 PM  41.758018 -87.611459   (41.75801796, -87.611458525)  \n",
       "6  09/15/2023 03:42:23 PM        NaN        NaN                            NaN  \n",
       "7  01/26/2024 03:40:42 PM        NaN        NaN                            NaN  \n",
       "8  09/16/2023 03:42:58 PM        NaN        NaN                            NaN  \n",
       "9  09/17/2023 03:41:45 PM  41.742736 -87.647510  (41.742736236, -87.647510047)  \n",
       "\n",
       "[10 rows x 22 columns]"
      ],
      "text/html": [
       "<div>\n",
       "<style scoped>\n",
       "    .dataframe tbody tr th:only-of-type {\n",
       "        vertical-align: middle;\n",
       "    }\n",
       "\n",
       "    .dataframe tbody tr th {\n",
       "        vertical-align: top;\n",
       "    }\n",
       "\n",
       "    .dataframe thead th {\n",
       "        text-align: right;\n",
       "    }\n",
       "</style>\n",
       "<table border=\"1\" class=\"dataframe\">\n",
       "  <thead>\n",
       "    <tr style=\"text-align: right;\">\n",
       "      <th></th>\n",
       "      <th>ID</th>\n",
       "      <th>Case Number</th>\n",
       "      <th>Date</th>\n",
       "      <th>Block</th>\n",
       "      <th>IUCR</th>\n",
       "      <th>Primary Type</th>\n",
       "      <th>Description</th>\n",
       "      <th>Location Description</th>\n",
       "      <th>Arrest</th>\n",
       "      <th>Domestic</th>\n",
       "      <th>...</th>\n",
       "      <th>Ward</th>\n",
       "      <th>Community Area</th>\n",
       "      <th>FBI Code</th>\n",
       "      <th>X Coordinate</th>\n",
       "      <th>Y Coordinate</th>\n",
       "      <th>Year</th>\n",
       "      <th>Updated On</th>\n",
       "      <th>Latitude</th>\n",
       "      <th>Longitude</th>\n",
       "      <th>Location</th>\n",
       "    </tr>\n",
       "  </thead>\n",
       "  <tbody>\n",
       "    <tr>\n",
       "      <th>0</th>\n",
       "      <td>11662417</td>\n",
       "      <td>JC232642</td>\n",
       "      <td>04/21/2019 12:30:00 PM</td>\n",
       "      <td>009XX E 80TH ST</td>\n",
       "      <td>031A</td>\n",
       "      <td>ROBBERY</td>\n",
       "      <td>ARMED - HANDGUN</td>\n",
       "      <td>RESIDENCE</td>\n",
       "      <td>False</td>\n",
       "      <td>False</td>\n",
       "      <td>...</td>\n",
       "      <td>8.0</td>\n",
       "      <td>44</td>\n",
       "      <td>03</td>\n",
       "      <td>1184044.0</td>\n",
       "      <td>1852159.0</td>\n",
       "      <td>2019</td>\n",
       "      <td>09/14/2023 03:41:59 PM</td>\n",
       "      <td>41.749500</td>\n",
       "      <td>-87.601157</td>\n",
       "      <td>(41.749500329, -87.6011574)</td>\n",
       "    </tr>\n",
       "    <tr>\n",
       "      <th>1</th>\n",
       "      <td>12990873</td>\n",
       "      <td>JG161829</td>\n",
       "      <td>08/17/2019 01:14:00 PM</td>\n",
       "      <td>008XX N KARLOV AVE</td>\n",
       "      <td>1751</td>\n",
       "      <td>OFFENSE INVOLVING CHILDREN</td>\n",
       "      <td>CRIMINAL SEXUAL ABUSE BY FAMILY MEMBER</td>\n",
       "      <td>RESIDENCE</td>\n",
       "      <td>True</td>\n",
       "      <td>True</td>\n",
       "      <td>...</td>\n",
       "      <td>37.0</td>\n",
       "      <td>23</td>\n",
       "      <td>17</td>\n",
       "      <td>1148899.0</td>\n",
       "      <td>1905351.0</td>\n",
       "      <td>2019</td>\n",
       "      <td>09/14/2023 03:41:59 PM</td>\n",
       "      <td>41.896215</td>\n",
       "      <td>-87.728572</td>\n",
       "      <td>(41.89621515, -87.728572048)</td>\n",
       "    </tr>\n",
       "    <tr>\n",
       "      <th>2</th>\n",
       "      <td>11630496</td>\n",
       "      <td>JC193727</td>\n",
       "      <td>03/16/2019 11:35:00 AM</td>\n",
       "      <td>045XX N LINCOLN AVE</td>\n",
       "      <td>0890</td>\n",
       "      <td>THEFT</td>\n",
       "      <td>FROM BUILDING</td>\n",
       "      <td>BAR OR TAVERN</td>\n",
       "      <td>False</td>\n",
       "      <td>False</td>\n",
       "      <td>...</td>\n",
       "      <td>47.0</td>\n",
       "      <td>4</td>\n",
       "      <td>06</td>\n",
       "      <td>NaN</td>\n",
       "      <td>NaN</td>\n",
       "      <td>2019</td>\n",
       "      <td>03/23/2019 04:03:16 PM</td>\n",
       "      <td>NaN</td>\n",
       "      <td>NaN</td>\n",
       "      <td>NaN</td>\n",
       "    </tr>\n",
       "    <tr>\n",
       "      <th>3</th>\n",
       "      <td>11632505</td>\n",
       "      <td>JC196841</td>\n",
       "      <td>03/20/2019 01:00:00 AM</td>\n",
       "      <td>013XX W HOOD AVE</td>\n",
       "      <td>0810</td>\n",
       "      <td>THEFT</td>\n",
       "      <td>OVER $500</td>\n",
       "      <td>OTHER</td>\n",
       "      <td>False</td>\n",
       "      <td>False</td>\n",
       "      <td>...</td>\n",
       "      <td>48.0</td>\n",
       "      <td>77</td>\n",
       "      <td>06</td>\n",
       "      <td>NaN</td>\n",
       "      <td>NaN</td>\n",
       "      <td>2019</td>\n",
       "      <td>03/27/2019 04:10:11 PM</td>\n",
       "      <td>NaN</td>\n",
       "      <td>NaN</td>\n",
       "      <td>NaN</td>\n",
       "    </tr>\n",
       "    <tr>\n",
       "      <th>4</th>\n",
       "      <td>11765926</td>\n",
       "      <td>JC358692</td>\n",
       "      <td>07/21/2019 02:00:00 PM</td>\n",
       "      <td>002XX W 87TH ST</td>\n",
       "      <td>0810</td>\n",
       "      <td>THEFT</td>\n",
       "      <td>OVER $500</td>\n",
       "      <td>PARKING LOT / GARAGE (NON RESIDENTIAL)</td>\n",
       "      <td>False</td>\n",
       "      <td>False</td>\n",
       "      <td>...</td>\n",
       "      <td>21.0</td>\n",
       "      <td>44</td>\n",
       "      <td>06</td>\n",
       "      <td>1176436.0</td>\n",
       "      <td>1847222.0</td>\n",
       "      <td>2019</td>\n",
       "      <td>09/15/2023 03:41:25 PM</td>\n",
       "      <td>41.736127</td>\n",
       "      <td>-87.629184</td>\n",
       "      <td>(41.736126864, -87.629184056)</td>\n",
       "    </tr>\n",
       "    <tr>\n",
       "      <th>5</th>\n",
       "      <td>11885224</td>\n",
       "      <td>JC502442</td>\n",
       "      <td>11/05/2019 08:00:00 PM</td>\n",
       "      <td>075XX S RHODES AVE</td>\n",
       "      <td>031A</td>\n",
       "      <td>ROBBERY</td>\n",
       "      <td>ARMED - HANDGUN</td>\n",
       "      <td>STREET</td>\n",
       "      <td>False</td>\n",
       "      <td>True</td>\n",
       "      <td>...</td>\n",
       "      <td>6.0</td>\n",
       "      <td>69</td>\n",
       "      <td>03</td>\n",
       "      <td>1181207.0</td>\n",
       "      <td>1855239.0</td>\n",
       "      <td>2019</td>\n",
       "      <td>09/15/2023 03:41:25 PM</td>\n",
       "      <td>41.758018</td>\n",
       "      <td>-87.611459</td>\n",
       "      <td>(41.75801796, -87.611458525)</td>\n",
       "    </tr>\n",
       "    <tr>\n",
       "      <th>6</th>\n",
       "      <td>13210699</td>\n",
       "      <td>JG424394</td>\n",
       "      <td>01/01/2019 12:01:00 AM</td>\n",
       "      <td>003XX W 64TH ST</td>\n",
       "      <td>1563</td>\n",
       "      <td>SEX OFFENSE</td>\n",
       "      <td>CRIMINAL SEXUAL ABUSE</td>\n",
       "      <td>HOSPITAL BUILDING / GROUNDS</td>\n",
       "      <td>False</td>\n",
       "      <td>False</td>\n",
       "      <td>...</td>\n",
       "      <td>20.0</td>\n",
       "      <td>68</td>\n",
       "      <td>17</td>\n",
       "      <td>NaN</td>\n",
       "      <td>NaN</td>\n",
       "      <td>2019</td>\n",
       "      <td>09/15/2023 03:42:23 PM</td>\n",
       "      <td>NaN</td>\n",
       "      <td>NaN</td>\n",
       "      <td>NaN</td>\n",
       "    </tr>\n",
       "    <tr>\n",
       "      <th>7</th>\n",
       "      <td>13211437</td>\n",
       "      <td>JG425074</td>\n",
       "      <td>01/13/2019 12:00:00 AM</td>\n",
       "      <td>009XX N HAMLIN AVE</td>\n",
       "      <td>0266</td>\n",
       "      <td>CRIMINAL SEXUAL ASSAULT</td>\n",
       "      <td>PREDATORY</td>\n",
       "      <td>RESIDENCE</td>\n",
       "      <td>False</td>\n",
       "      <td>False</td>\n",
       "      <td>...</td>\n",
       "      <td>27.0</td>\n",
       "      <td>23</td>\n",
       "      <td>02</td>\n",
       "      <td>NaN</td>\n",
       "      <td>NaN</td>\n",
       "      <td>2019</td>\n",
       "      <td>01/26/2024 03:40:42 PM</td>\n",
       "      <td>NaN</td>\n",
       "      <td>NaN</td>\n",
       "      <td>NaN</td>\n",
       "    </tr>\n",
       "    <tr>\n",
       "      <th>8</th>\n",
       "      <td>13211898</td>\n",
       "      <td>JG425742</td>\n",
       "      <td>03/24/2019 02:00:00 AM</td>\n",
       "      <td>017XX N WHIPPLE ST</td>\n",
       "      <td>0281</td>\n",
       "      <td>CRIMINAL SEXUAL ASSAULT</td>\n",
       "      <td>NON-AGGRAVATED</td>\n",
       "      <td>APARTMENT</td>\n",
       "      <td>False</td>\n",
       "      <td>True</td>\n",
       "      <td>...</td>\n",
       "      <td>26.0</td>\n",
       "      <td>23</td>\n",
       "      <td>02</td>\n",
       "      <td>NaN</td>\n",
       "      <td>NaN</td>\n",
       "      <td>2019</td>\n",
       "      <td>09/16/2023 03:42:58 PM</td>\n",
       "      <td>NaN</td>\n",
       "      <td>NaN</td>\n",
       "      <td>NaN</td>\n",
       "    </tr>\n",
       "    <tr>\n",
       "      <th>9</th>\n",
       "      <td>11842146</td>\n",
       "      <td>JC449875</td>\n",
       "      <td>09/26/2019 08:53:00 PM</td>\n",
       "      <td>083XX S SANGAMON ST</td>\n",
       "      <td>0650</td>\n",
       "      <td>BURGLARY</td>\n",
       "      <td>HOME INVASION</td>\n",
       "      <td>RESIDENCE</td>\n",
       "      <td>False</td>\n",
       "      <td>True</td>\n",
       "      <td>...</td>\n",
       "      <td>17.0</td>\n",
       "      <td>71</td>\n",
       "      <td>05</td>\n",
       "      <td>1171415.0</td>\n",
       "      <td>1849590.0</td>\n",
       "      <td>2019</td>\n",
       "      <td>09/17/2023 03:41:45 PM</td>\n",
       "      <td>41.742736</td>\n",
       "      <td>-87.647510</td>\n",
       "      <td>(41.742736236, -87.647510047)</td>\n",
       "    </tr>\n",
       "  </tbody>\n",
       "</table>\n",
       "<p>10 rows × 22 columns</p>\n",
       "</div>"
      ]
     },
     "execution_count": 35,
     "metadata": {},
     "output_type": "execute_result"
    }
   ],
   "execution_count": 35
  },
  {
   "metadata": {},
   "cell_type": "markdown",
   "source": [
    "1. How many columns does the dataset contain and how many columns contain null values? Print the result as 'Number of Columns' and 'Number of Columns with Null Value.\n",
    "        "
   ],
   "id": "6ee9d64d1b766a19"
  },
  {
   "cell_type": "code",
   "id": "initial_id",
   "metadata": {
    "collapsed": true,
    "ExecuteTime": {
     "end_time": "2024-12-14T22:27:08.402505Z",
     "start_time": "2024-12-14T22:27:08.273799Z"
    }
   },
   "source": [
    "# Load the CSV file\n",
    "data = pd.read_csv('../datasets/research/Crimes_-_2019.csv')\n",
    "\n",
    "# Count the total number of columns\n",
    "total_columns = data.shape[1]\n",
    "\n",
    "# Count the number of columns with null values\n",
    "columns_with_null = data.isnull().any().sum()\n",
    "\n",
    "# Print the results\n",
    "print(f\"Number of Columns: {total_columns}\")\n",
    "print(f\"Number of Columns with Null Value: {columns_with_null}\")\n"
   ],
   "outputs": [
    {
     "name": "stdout",
     "output_type": "stream",
     "text": [
      "Number of Columns: 22\n",
      "Number of Columns with Null Value: 7\n"
     ]
    }
   ],
   "execution_count": 3
  },
  {
   "metadata": {},
   "cell_type": "markdown",
   "source": "2. Which column has the most missing values? Print the column name.",
   "id": "1992a966a1be2f5d"
  },
  {
   "metadata": {
    "ExecuteTime": {
     "end_time": "2024-12-14T22:27:08.740834Z",
     "start_time": "2024-12-14T22:27:08.463468Z"
    }
   },
   "cell_type": "code",
   "source": [
    "# Load the CSV file\n",
    "data = pd.read_csv('../datasets/research/Crimes_-_2019.csv')\n",
    "\n",
    "# Count the number of missing values for each column\n",
    "missing_values_count = data.isnull().sum()\n",
    "\n",
    "# Find the column with the most missing values\n",
    "column_with_most_missing = missing_values_count.idxmax()\n",
    "\n",
    "# Print the name of the column with the most missing values\n",
    "print(f\"Column with the most missing values: {column_with_most_missing}\")"
   ],
   "id": "bc47f0b074faea90",
   "outputs": [
    {
     "name": "stdout",
     "output_type": "stream",
     "text": [
      "Column with the most missing values: X Coordinate\n"
     ]
    }
   ],
   "execution_count": 4
  },
  {
   "metadata": {},
   "cell_type": "markdown",
   "source": [
    "3. Calculate the ratio of missing to non-missing values for each column. Print the result as 'Column Name: Ratio\n",
    "        "
   ],
   "id": "c58745a780c55eab"
  },
  {
   "metadata": {
    "ExecuteTime": {
     "end_time": "2024-12-14T22:27:09.328153Z",
     "start_time": "2024-12-14T22:27:08.989773Z"
    }
   },
   "cell_type": "code",
   "source": [
    "# Load the CSV file\n",
    "data = pd.read_csv('../datasets/research/Crimes_-_2019.csv')\n",
    "\n",
    "# Calculate the ratio of missing to non-missing values for each column\n",
    "missing_to_non_missing_ratio = (data.isnull().sum() / data.notnull().sum()).round(4)\n",
    "\n",
    "# Print the ratio for each column\n",
    "for column, ratio in missing_to_non_missing_ratio.items():\n",
    "    print(f\"{column}: {ratio}\")"
   ],
   "id": "1ede4198b0d8fda5",
   "outputs": [
    {
     "name": "stdout",
     "output_type": "stream",
     "text": [
      "ID: 0.0\n",
      "Case Number: 0.0\n",
      "Date: 0.0\n",
      "Block: 0.0\n",
      "IUCR: 0.0\n",
      "Primary Type: 0.0\n",
      "Description: 0.0\n",
      "Location Description: 0.0051\n",
      "Arrest: 0.0\n",
      "Domestic: 0.0\n",
      "Beat: 0.0\n",
      "District: 0.0\n",
      "Ward: 0.0001\n",
      "Community Area: 0.0\n",
      "FBI Code: 0.0\n",
      "X Coordinate: 0.0091\n",
      "Y Coordinate: 0.0091\n",
      "Year: 0.0\n",
      "Updated On: 0.0\n",
      "Latitude: 0.0091\n",
      "Longitude: 0.0091\n",
      "Location: 0.0091\n"
     ]
    }
   ],
   "execution_count": 5
  },
  {
   "metadata": {},
   "cell_type": "markdown",
   "source": [
    "4. Name all columns that contain null values and calculate the percentage to non null values rounded to three values after the comma. Print the result as 'Column Name' : 'Percentage'.\n",
    "        "
   ],
   "id": "27b0fef81d1f2093"
  },
  {
   "metadata": {
    "ExecuteTime": {
     "end_time": "2024-12-14T22:27:09.662236Z",
     "start_time": "2024-12-14T22:27:09.373329Z"
    }
   },
   "cell_type": "code",
   "source": [
    "# Load the CSV file\n",
    "data = pd.read_csv('../datasets/research/Crimes_-_2019.csv')\n",
    "\n",
    "# Calculate the percentage of missing to non-missing values for each column\n",
    "missing_percentage = (data.isnull().sum() / data.notnull().sum() * 100).round(3)\n",
    "\n",
    "# Filter columns that have null values\n",
    "columns_with_nulls = missing_percentage[missing_percentage > 0]\n",
    "\n",
    "# Print the result\n",
    "for column, percentage in columns_with_nulls.items():\n",
    "    print(f\"'{column}': '{percentage}%'\")"
   ],
   "id": "c7b20078549b32e9",
   "outputs": [
    {
     "name": "stdout",
     "output_type": "stream",
     "text": [
      "'Location Description': '0.511%'\n",
      "'Ward': '0.006%'\n",
      "'X Coordinate': '0.908%'\n",
      "'Y Coordinate': '0.908%'\n",
      "'Latitude': '0.908%'\n",
      "'Longitude': '0.908%'\n",
      "'Location': '0.908%'\n"
     ]
    }
   ],
   "execution_count": 6
  },
  {
   "metadata": {},
   "cell_type": "markdown",
   "source": [
    "5. Find and print the count of all rows where 'Latitude' and 'Longitude' are both missing (NaN).\n",
    "        "
   ],
   "id": "d29c95ab0665610f"
  },
  {
   "metadata": {
    "ExecuteTime": {
     "end_time": "2024-12-14T22:27:09.825659Z",
     "start_time": "2024-12-14T22:27:09.814023Z"
    }
   },
   "cell_type": "code",
   "source": [
    "# Load the CSV file\n",
    "data = pd.read_csv('../datasets/research/Crimes_-_2019.csv')\n",
    "\n",
    "# Count rows where 'Latitude' and 'Longitude' are both missing\n",
    "count_missing_lat_long = data[data['Latitude'].isnull() & data['Longitude'].isnull()].shape[0]\n",
    "\n",
    "# Print the result\n",
    "print(f\"Count of rows where 'Latitude' and 'Longitude' are both missing: {count_missing_lat_long}\")"
   ],
   "id": "ada7af03ad6b4fb2",
   "outputs": [
    {
     "name": "stdout",
     "output_type": "stream",
     "text": [
      "Count of rows where 'Latitude' and 'Longitude' are both missing: 2352\n"
     ]
    }
   ],
   "execution_count": 7
  },
  {
   "metadata": {},
   "cell_type": "markdown",
   "source": "6. Check if there are any duplicate rows and count them.",
   "id": "8e97b92d1209ba22"
  },
  {
   "metadata": {
    "ExecuteTime": {
     "end_time": "2024-12-14T22:27:10.259535Z",
     "start_time": "2024-12-14T22:27:09.861476Z"
    }
   },
   "cell_type": "code",
   "source": [
    "# Load the CSV file\n",
    "data = pd.read_csv('../datasets/research/Crimes_-_2019.csv')\n",
    "\n",
    "# Count the number of duplicate rows\n",
    "duplicate_rows_count = data.duplicated().sum()\n",
    "\n",
    "# Print the result\n",
    "print(f\"Count of duplicate rows: {duplicate_rows_count}\")"
   ],
   "id": "5372c3645e6e0cd7",
   "outputs": [
    {
     "name": "stdout",
     "output_type": "stream",
     "text": [
      "Count of duplicate rows: 0\n"
     ]
    }
   ],
   "execution_count": 8
  },
  {
   "metadata": {},
   "cell_type": "markdown",
   "source": [
    "7. Check if there are any duplicate 'Case Number' values in the dataset. Print YES or NO.\n",
    "        "
   ],
   "id": "1484e3d066932a65"
  },
  {
   "metadata": {
    "ExecuteTime": {
     "end_time": "2024-12-14T22:27:10.332830Z",
     "start_time": "2024-12-14T22:27:10.291417Z"
    }
   },
   "cell_type": "code",
   "source": [
    "# Load the CSV file\n",
    "data = pd.read_csv('../datasets/research/Crimes_-_2019.csv')\n",
    "\n",
    "# Check if there are any duplicate 'Case Number' values\n",
    "has_duplicate_case_numbers = data['Case Number'].duplicated().any()\n",
    "\n",
    "# Print the result\n",
    "if has_duplicate_case_numbers:\n",
    "    print(\"YES\")\n",
    "else:\n",
    "    print(\"NO\")"
   ],
   "id": "d93326ea78a8f173",
   "outputs": [
    {
     "name": "stdout",
     "output_type": "stream",
     "text": [
      "YES\n"
     ]
    }
   ],
   "execution_count": 9
  },
  {
   "metadata": {},
   "cell_type": "markdown",
   "source": "8. Print all IDs of the rows of the first ten rows where the crime was not Theft.",
   "id": "58b3c8331a87ac0b"
  },
  {
   "metadata": {
    "ExecuteTime": {
     "end_time": "2024-12-14T22:27:10.426751Z",
     "start_time": "2024-12-14T22:27:10.356792Z"
    }
   },
   "cell_type": "code",
   "source": [
    "# Load the CSV file\n",
    "data = pd.read_csv('../datasets/research/Crimes_-_2019.csv')\n",
    "\n",
    "# Filter the first 10 rows where the 'Primary Type' is not 'Theft'\n",
    "non_theft_rows = data[data['Primary Type'] != 'Theft'].head(10)\n",
    "\n",
    "# Print the IDs of these rows\n",
    "print(\"IDs of the first 10 rows where the crime was not Theft:\")\n",
    "print(non_theft_rows['ID'].tolist())"
   ],
   "id": "a576aae0356f4292",
   "outputs": [
    {
     "name": "stdout",
     "output_type": "stream",
     "text": [
      "IDs of the first 10 rows where the crime was not Theft:\n",
      "[11662417, 12990873, 11630496, 11632505, 11765926, 11885224, 13210699, 13211437, 13211898, 11842146]\n"
     ]
    }
   ],
   "execution_count": 10
  },
  {
   "metadata": {},
   "cell_type": "markdown",
   "source": [
    "9. Find all the columns that only contain the same value in each row. Print the result as 'Columns with the same value in all rows:' : 'Column Name' or None if no such column exists.\",\n",
    "        "
   ],
   "id": "65d19a79cc3378ab"
  },
  {
   "metadata": {
    "ExecuteTime": {
     "end_time": "2024-12-14T22:27:10.812139Z",
     "start_time": "2024-12-14T22:27:10.520406Z"
    }
   },
   "cell_type": "code",
   "source": [
    "# Load the CSV file\n",
    "data = pd.read_csv('../datasets/research/Crimes_-_2019.csv')\n",
    "\n",
    "# Find columns where all values are the same\n",
    "constant_columns = [col for col in data.columns if data[col].nunique() == 1]\n",
    "\n",
    "# Print the result\n",
    "if constant_columns:\n",
    "    print(\"Columns with the same value in all rows:\")\n",
    "    for column in constant_columns:\n",
    "        print(f\"'{column}'\")\n",
    "else:\n",
    "    print(\"None\")"
   ],
   "id": "bfa72e82d1835dfa",
   "outputs": [
    {
     "name": "stdout",
     "output_type": "stream",
     "text": [
      "Columns with the same value in all rows:\n",
      "'Year'\n"
     ]
    }
   ],
   "execution_count": 11
  },
  {
   "metadata": {},
   "cell_type": "markdown",
   "source": [
    "10. \"How many unique values exist in the 'Location Description' column? Print the count.\",\n",
    "        "
   ],
   "id": "2f542308b6d26510"
  },
  {
   "metadata": {
    "ExecuteTime": {
     "end_time": "2024-12-14T22:27:10.873593Z",
     "start_time": "2024-12-14T22:27:10.856340Z"
    }
   },
   "cell_type": "code",
   "source": [
    "# Load the CSV file\n",
    "data = pd.read_csv('../datasets/research/Crimes_-_2019.csv')\n",
    "\n",
    "# Count the number of unique values in the 'Location Description' column\n",
    "unique_values_count = data['Location Description'].nunique()\n",
    "\n",
    "# Print the result\n",
    "print(f\"Count of unique values in 'Location Description': {unique_values_count}\")"
   ],
   "id": "6111b7970bf37013",
   "outputs": [
    {
     "name": "stdout",
     "output_type": "stream",
     "text": [
      "Count of unique values in 'Location Description': 156\n"
     ]
    }
   ],
   "execution_count": 12
  },
  {
   "metadata": {},
   "cell_type": "markdown",
   "source": "11. \"Identify and count records where the 'Case Number' format does not match the pattern 'XX999999'. Print and calculate the ratio that represents how many follow the pattern",
   "id": "41124dd328566b4b"
  },
  {
   "metadata": {
    "ExecuteTime": {
     "end_time": "2024-12-14T22:27:11.138768Z",
     "start_time": "2024-12-14T22:27:10.903921Z"
    }
   },
   "cell_type": "code",
   "source": [
    "# Load the CSV file\n",
    "data = pd.read_csv('../datasets/research/Crimes_-_2019.csv')\n",
    "\n",
    "# Define the pattern for 'Case Number' (two uppercase letters followed by six digits)\n",
    "pattern = r'^[A-Z]{2}\\d{6}$'\n",
    "\n",
    "# Identify records where 'Case Number' does not match the pattern\n",
    "non_matching_cases = data[~data['Case Number'].str.match(pattern, na=False)]\n",
    "\n",
    "# Count the total number of records\n",
    "total_records = len(data)\n",
    "\n",
    "# Count the number of records that do not match the pattern\n",
    "non_matching_count = non_matching_cases.shape[0]\n",
    "\n",
    "# Calculate the ratio of records that follow the pattern\n",
    "matching_count = total_records - non_matching_count\n",
    "matching_ratio = matching_count / total_records if total_records > 0 else 0\n",
    "\n",
    "# Print the results\n",
    "print(f\"Count of records where 'Case Number' does not match the pattern: {non_matching_count}\")\n",
    "print(f\"Ratio of records that follow the pattern: {matching_ratio:.3f}\")\n",
    "\n",
    "# Identify records where 'Case Number' does not match the pattern\n",
    "non_matching_cases = data[~data['Case Number'].str.match(pattern, na=False)]\n",
    "\n",
    "# Print the rows where 'Case Number' does not match the pattern\n",
    "#print(\"Rows where 'Case Number' does not match the pattern 'XX999999':\")\n",
    "#print(non_matching_cases)"
   ],
   "id": "9cf6bfe883801556",
   "outputs": [
    {
     "name": "stdout",
     "output_type": "stream",
     "text": [
      "Count of records where 'Case Number' does not match the pattern: 1\n",
      "Ratio of records that follow the pattern: 1.000\n"
     ]
    }
   ],
   "execution_count": 13
  },
  {
   "metadata": {},
   "cell_type": "markdown",
   "source": "12. Standardize 'Location' column values to the format '(latitude, longitude)'. Print the first five formatted values.",
   "id": "8d228fadf6ee0283"
  },
  {
   "metadata": {
    "ExecuteTime": {
     "end_time": "2024-12-14T22:31:22.454886Z",
     "start_time": "2024-12-14T22:31:18.997054Z"
    }
   },
   "cell_type": "code",
   "source": [
    "# Load the CSV file\n",
    "data = pd.read_csv('../datasets/research/Crimes_-_2019.csv')\n",
    "\n",
    "# Standardize 'Location' column to the format '(latitude, longitude)'\n",
    "data['Location'] = data.apply(lambda row: f\"({row['Latitude']}, {row['Longitude']})\" if not pd.isnull(row['Latitude']) and not pd.isnull(row['Longitude']) else None, axis=1)\n",
    "\n",
    "# Get the first five formatted values as an array\n",
    "formatted_locations = data['Location'].head(5).tolist()\n",
    "\n",
    "# Print the array\n",
    "print(\"First five formatted 'Location' values as an array:\")\n",
    "print(formatted_locations)"
   ],
   "id": "32e777ec959c27b1",
   "outputs": [
    {
     "name": "stdout",
     "output_type": "stream",
     "text": [
      "First five formatted 'Location' values as an array:\n",
      "['(41.749500329, -87.6011574)', '(41.89621515, -87.728572048)', None, None, '(41.736126864, -87.629184056)']\n"
     ]
    }
   ],
   "execution_count": 15
  },
  {
   "metadata": {},
   "cell_type": "markdown",
   "source": [
    "13. Ensure that timestamps in the 'Date' column are rounded to the nearest minute. Print the first five updated timestamps.\n",
    "        "
   ],
   "id": "90c6979e07a1d09f"
  },
  {
   "metadata": {
    "ExecuteTime": {
     "end_time": "2024-12-14T22:36:58.879454Z",
     "start_time": "2024-12-14T22:36:58.812011Z"
    }
   },
   "cell_type": "code",
   "source": [
    "# Load the CSV file\n",
    "data = pd.read_csv('../datasets/research/Crimes_-_2019.csv')\n",
    "\n",
    "# Convert 'Date' column to datetime format and round to the nearest minute\n",
    "data['Date'] = pd.to_datetime(data['Date'], errors='coerce').dt.round('min')\n",
    "\n",
    "# Print the first five updated timestamps\n",
    "print(\"First five updated timestamps in 'Date' column:\")\n",
    "print(data['Date'].head(5).tolist())"
   ],
   "id": "4325c97b28001847",
   "outputs": [
    {
     "name": "stdout",
     "output_type": "stream",
     "text": [
      "First five updated timestamps in 'Date' column:\n",
      "[Timestamp('2019-04-21 12:30:00'), Timestamp('2019-08-17 13:14:00'), Timestamp('2019-03-16 11:35:00'), Timestamp('2019-03-20 01:00:00'), Timestamp('2019-07-21 14:00:00')]\n"
     ]
    }
   ],
   "execution_count": 18
  },
  {
   "metadata": {},
   "cell_type": "markdown",
   "source": "14. \"Partition the dataset by 'District' and count the number of crimes in each partition. Print 'District: Count'.",
   "id": "ff92e6dea0dde14"
  },
  {
   "metadata": {
    "ExecuteTime": {
     "end_time": "2024-12-14T22:39:01.684413Z",
     "start_time": "2024-12-14T22:39:01.652352Z"
    }
   },
   "cell_type": "code",
   "source": [
    "# Load the CSV file\n",
    "data = pd.read_csv('../datasets/research/Crimes_-_2019.csv')\n",
    "\n",
    "# Count the number of crimes in each 'District'\n",
    "district_crime_counts = data['District'].value_counts()\n",
    "\n",
    "# Print the result as 'District: Count'\n",
    "for district, count in district_crime_counts.items():\n",
    "    print(f\"'{district}': {count}\")"
   ],
   "id": "3143c3af3a13ce1d",
   "outputs": [
    {
     "name": "stdout",
     "output_type": "stream",
     "text": [
      "'11': 18735\n",
      "'6': 16900\n",
      "'8': 15743\n",
      "'1': 15309\n",
      "'18': 15181\n",
      "'4': 14074\n",
      "'7': 13746\n",
      "'12': 13197\n",
      "'25': 12968\n",
      "'3': 12526\n",
      "'10': 12508\n",
      "'19': 11849\n",
      "'5': 11388\n",
      "'2': 11267\n",
      "'9': 11031\n",
      "'15': 10022\n",
      "'14': 9296\n",
      "'16': 8326\n",
      "'22': 8267\n",
      "'24': 8032\n",
      "'17': 6764\n",
      "'20': 4389\n",
      "'31': 7\n"
     ]
    }
   ],
   "execution_count": 19
  },
  {
   "metadata": {},
   "cell_type": "markdown",
   "source": "15. Filter the dataset to only include rows where 'Arrest' is True. Print the IDs of the first five rows of the filtered dataset.",
   "id": "5339c538ab0b4989"
  },
  {
   "metadata": {
    "ExecuteTime": {
     "end_time": "2024-12-14T22:41:18.599857Z",
     "start_time": "2024-12-14T22:41:18.434788Z"
    }
   },
   "cell_type": "code",
   "source": [
    "# Load the CSV file\n",
    "data = pd.read_csv('../datasets/research/Crimes_-_2019.csv')\n",
    "\n",
    "# Filter the dataset where 'Arrest' is True\n",
    "arrested_cases = data[data['Arrest'] == True]\n",
    "\n",
    "# Print the IDs of the first five rows of the filtered dataset\n",
    "print(\"IDs of the first five rows where 'Arrest' is True:\")\n",
    "print(arrested_cases['ID'].head(5).tolist())"
   ],
   "id": "25f0ce1f2fa7870c",
   "outputs": [
    {
     "name": "stdout",
     "output_type": "stream",
     "text": [
      "IDs of the first five rows where 'Arrest' is True:\n",
      "[12990873, 24886, 13195357, 11858992, 11839309]\n"
     ]
    }
   ],
   "execution_count": 20
  },
  {
   "metadata": {},
   "cell_type": "markdown",
   "source": "16. Filter the dataset to exclude rows where 'Primary Type' is 'THEFT'. Print the number of remaining rows.",
   "id": "ea57757579d1eed8"
  },
  {
   "metadata": {
    "ExecuteTime": {
     "end_time": "2024-12-14T22:42:20.453429Z",
     "start_time": "2024-12-14T22:42:20.354259Z"
    }
   },
   "cell_type": "code",
   "source": [
    "# Load the CSV file\n",
    "data = pd.read_csv('../datasets/research/Crimes_-_2019.csv')\n",
    "\n",
    "# Filter the dataset to exclude rows where 'Primary Type' is 'THEFT'\n",
    "filtered_data = data[data['Primary Type'] != 'THEFT']\n",
    "\n",
    "# Print the number of remaining rows\n",
    "remaining_rows_count = filtered_data.shape[0]\n",
    "print(f\"Number of remaining rows after excluding 'THEFT': {remaining_rows_count}\")"
   ],
   "id": "c8c1179ac65a1314",
   "outputs": [
    {
     "name": "stdout",
     "output_type": "stream",
     "text": [
      "Number of remaining rows after excluding 'THEFT': 199030\n"
     ]
    }
   ],
   "execution_count": 21
  },
  {
   "metadata": {},
   "cell_type": "markdown",
   "source": "17. Ensure that all 'District' values are zero-padded to a 3-digit format (e.g., '007' instead of '7'). Print the first five updated values.",
   "id": "d61f2774b63a7c9"
  },
  {
   "metadata": {
    "ExecuteTime": {
     "end_time": "2024-12-14T22:50:21.229023Z",
     "start_time": "2024-12-14T22:50:19.717049Z"
    }
   },
   "cell_type": "code",
   "source": [
    "# Load the CSV file\n",
    "data = pd.read_csv('../datasets/research/Crimes_-_2019.csv')\n",
    "\n",
    "# Ensure 'District' values are zero-padded to a 3-digit format\n",
    "data['District'] = data['District'].apply(lambda x: f\"{int(x):03}\" if pd.notnull(x) else None)\n",
    "\n",
    "# Print the first five updated 'District' values\n",
    "print(\"First five updated 'District' values:\")\n",
    "print(data['District'].head(5).tolist())"
   ],
   "id": "85d14ec8120e891f",
   "outputs": [
    {
     "name": "stdout",
     "output_type": "stream",
     "text": [
      "First five updated 'District' values:\n",
      "['006', '011', '019', '024', '006']\n"
     ]
    }
   ],
   "execution_count": 24
  },
  {
   "metadata": {},
   "cell_type": "markdown",
   "source": "18. Print out the Date column of the first five rows of the dataset in JSON format with the Date formatted in the european format (dd/mm/yyyy hh:mm).",
   "id": "32c12f3963e65d3"
  },
  {
   "metadata": {
    "ExecuteTime": {
     "end_time": "2024-12-14T22:52:37.466131Z",
     "start_time": "2024-12-14T22:52:32.970701Z"
    }
   },
   "cell_type": "code",
   "source": [
    "# Load the CSV file\n",
    "data = pd.read_csv('../datasets/research/Crimes_-_2019.csv')\n",
    "\n",
    "# Convert 'Date' column to datetime and format it to 'dd/mm/yyyy'\n",
    "data['Date'] = pd.to_datetime(data['Date'], errors='coerce').dt.strftime('%d/%m/%Y')\n",
    "\n",
    "# Get the first five formatted 'Date' values\n",
    "formatted_dates = data['Date'].head(5).to_json(orient='values')\n",
    "\n",
    "# Replace the escaped forward slashes (\\/) with a normal slash (/)\n",
    "cleaned_json = formatted_dates.replace('\\\\/', '/')\n",
    "\n",
    "# Print the result\n",
    "print(\"First five 'Date' values in JSON format (European format dd/mm/yyyy) without escaped slashes:\")\n",
    "print(cleaned_json)"
   ],
   "id": "dc3f94906bf7406e",
   "outputs": [
    {
     "name": "stdout",
     "output_type": "stream",
     "text": [
      "First five 'Date' values in JSON format (European format dd/mm/yyyy) without escaped slashes:\n",
      "[\"21/04/2019\",\"17/08/2019\",\"16/03/2019\",\"20/03/2019\",\"21/07/2019\"]\n"
     ]
    }
   ],
   "execution_count": 27
  },
  {
   "metadata": {},
   "cell_type": "markdown",
   "source": "19. Print all values that occur in the column about crime types.",
   "id": "8df30c9859a035b"
  },
  {
   "metadata": {
    "ExecuteTime": {
     "end_time": "2024-12-14T22:54:10.127340Z",
     "start_time": "2024-12-14T22:54:08.410186Z"
    }
   },
   "cell_type": "code",
   "source": [
    "# Load the CSV file\n",
    "data = pd.read_csv('../datasets/research/Crimes_-_2019.csv')\n",
    "\n",
    "# Get all unique values from the 'Primary Type' column\n",
    "crime_types = data['Primary Type'].unique()\n",
    "\n",
    "# Print the unique crime types\n",
    "print(\"All unique crime types:\")\n",
    "print(crime_types)"
   ],
   "id": "4c3f79d5c27bf286",
   "outputs": [
    {
     "name": "stdout",
     "output_type": "stream",
     "text": [
      "All unique crime types:\n",
      "['ROBBERY' 'OFFENSE INVOLVING CHILDREN' 'THEFT' 'SEX OFFENSE'\n",
      " 'CRIMINAL SEXUAL ASSAULT' 'BURGLARY' 'HOMICIDE' 'DECEPTIVE PRACTICE'\n",
      " 'BATTERY' 'OTHER OFFENSE' 'MOTOR VEHICLE THEFT' 'WEAPONS VIOLATION'\n",
      " 'STALKING' 'NARCOTICS' 'ASSAULT' 'CRIMINAL DAMAGE' 'CRIMINAL TRESPASS'\n",
      " 'CRIM SEXUAL ASSAULT' 'PUBLIC PEACE VIOLATION'\n",
      " 'INTERFERENCE WITH PUBLIC OFFICER' 'PROSTITUTION' 'LIQUOR LAW VIOLATION'\n",
      " 'ARSON' 'OBSCENITY' 'CONCEALED CARRY LICENSE VIOLATION' 'KIDNAPPING'\n",
      " 'GAMBLING' 'INTIMIDATION' 'HUMAN TRAFFICKING' 'NON-CRIMINAL'\n",
      " 'OTHER NARCOTIC VIOLATION' 'PUBLIC INDECENCY']\n"
     ]
    }
   ],
   "execution_count": 28
  },
  {
   "metadata": {},
   "cell_type": "markdown",
   "source": "20. Out of all unique values in the crime type column, is there a category that is very similar but has a typo or another feature where someone most likely made an error? yes or no?",
   "id": "96354c02b6e142da"
  },
  {
   "metadata": {
    "ExecuteTime": {
     "end_time": "2024-12-14T22:57:58.671175Z",
     "start_time": "2024-12-14T22:57:57.188828Z"
    }
   },
   "cell_type": "code",
   "source": [
    "# Load the CSV file\n",
    "data = pd.read_csv('../datasets/research/Crimes_-_2019.csv')\n",
    "\n",
    "# Get all unique values from the 'Primary Type' column\n",
    "crime_types = data['Primary Type'].unique()\n",
    "\n",
    "# Filter crime types that contain the word 'crime' (case insensitive)\n",
    "crime_types_with_crime = [crime for crime in crime_types if 'crim' in crime.lower()]\n",
    "\n",
    "# Print the unique crime types that contain the word 'crime'\n",
    "print(\"All unique crime types containing the word 'crime':\")\n",
    "print(crime_types_with_crime)\n",
    "\n",
    "print(\"YES\")"
   ],
   "id": "785c2fbcb83c9c98",
   "outputs": [
    {
     "name": "stdout",
     "output_type": "stream",
     "text": [
      "All unique crime types containing the word 'crime':\n",
      "['CRIMINAL SEXUAL ASSAULT', 'CRIMINAL DAMAGE', 'CRIMINAL TRESPASS', 'CRIM SEXUAL ASSAULT', 'NON-CRIMINAL']\n"
     ]
    }
   ],
   "execution_count": 30
  },
  {
   "metadata": {},
   "cell_type": "markdown",
   "source": [
    "21. Print the datatype of each column as a dict.\n",
    "        "
   ],
   "id": "5a939d6ab8f359be"
  },
  {
   "metadata": {
    "ExecuteTime": {
     "end_time": "2024-12-14T23:13:36.846946Z",
     "start_time": "2024-12-14T23:13:35.451724Z"
    }
   },
   "cell_type": "code",
   "source": [
    "import pandas as pd\n",
    "\n",
    "# Load the CSV file\n",
    "data = pd.read_csv('../datasets/research/Crimes_-_2019.csv')\n",
    "\n",
    "# Print the datatype of each column as a dictionary\n",
    "data_types_dict = data.dtypes.apply(lambda x: x.name).to_dict()\n",
    "print(data_types_dict)\n"
   ],
   "id": "369ce28dde3460ae",
   "outputs": [
    {
     "name": "stdout",
     "output_type": "stream",
     "text": [
      "{'ID': 'int64', 'Case Number': 'object', 'Date': 'object', 'Block': 'object', 'IUCR': 'object', 'Primary Type': 'object', 'Description': 'object', 'Location Description': 'object', 'Arrest': 'bool', 'Domestic': 'bool', 'Beat': 'int64', 'District': 'int64', 'Ward': 'float64', 'Community Area': 'int64', 'FBI Code': 'object', 'X Coordinate': 'float64', 'Y Coordinate': 'float64', 'Year': 'int64', 'Updated On': 'object', 'Latitude': 'float64', 'Longitude': 'float64', 'Location': 'object'}\n"
     ]
    }
   ],
   "execution_count": 41
  },
  {
   "metadata": {},
   "cell_type": "markdown",
   "source": "22. Remove all rows, where over 10% of values are missing, and count the remaining rows.",
   "id": "6e49cb5974d8069c"
  },
  {
   "metadata": {
    "ExecuteTime": {
     "end_time": "2024-12-14T23:17:05.703875Z",
     "start_time": "2024-12-14T23:17:03.418411Z"
    }
   },
   "cell_type": "code",
   "source": [
    "# Load the CSV file\n",
    "data = pd.read_csv('../datasets/research/Crimes_-_2019.csv')\n",
    "\n",
    "# Calculate the threshold for missing values (10% of the total columns)\n",
    "threshold = 0.1 * data.shape[1]\n",
    "\n",
    "# Remove rows where the number of missing values exceeds the threshold\n",
    "cleaned_data = data.dropna(thresh=data.shape[1] - threshold)\n",
    "\n",
    "# Count the remaining rows\n",
    "remaining_row_count = cleaned_data.shape[0]\n",
    "\n",
    "print(f\"Number of remaining rows: {remaining_row_count}\")"
   ],
   "id": "373ba1092eee02ae",
   "outputs": [
    {
     "name": "stdout",
     "output_type": "stream",
     "text": [
      "Number of remaining rows: 259173\n"
     ]
    }
   ],
   "execution_count": 42
  },
  {
   "metadata": {},
   "cell_type": "markdown",
   "source": "23. \"Identify and count records where the 'Case Number' format does not match the pattern 'XX999999'. Delete those values and count the number of rows\"",
   "id": "34f811b734d8deaa"
  },
  {
   "metadata": {
    "ExecuteTime": {
     "end_time": "2024-12-14T23:19:31.958794Z",
     "start_time": "2024-12-14T23:19:29.231078Z"
    }
   },
   "cell_type": "code",
   "source": [
    "\n",
    "# Load the CSV file\n",
    "data = pd.read_csv('../datasets/research/Crimes_-_2019.csv')\n",
    "\n",
    "# Define the pattern for a valid 'Case Number'\n",
    "pattern = r'^[A-Z]{2}\\d{6}$'\n",
    "\n",
    "# Identify records where the 'Case Number' does not match the pattern\n",
    "invalid_case_numbers = data[~data['Case Number'].str.match(pattern, na=False)]\n",
    "\n",
    "# Count the number of invalid records\n",
    "invalid_count = invalid_case_numbers.shape[0]\n",
    "\n",
    "# Remove the invalid 'Case Number' rows from the DataFrame\n",
    "cleaned_data = data[data['Case Number'].str.match(pattern, na=False)]\n",
    "\n",
    "# Count the number of remaining rows\n",
    "remaining_row_count = cleaned_data.shape[0]\n",
    "\n",
    "print(f\"Number of records with invalid 'Case Number' format: {invalid_count}\")\n",
    "print(f\"Number of remaining rows: {remaining_row_count}\")\n"
   ],
   "id": "79ece6d39cd8907",
   "outputs": [
    {
     "name": "stdout",
     "output_type": "stream",
     "text": [
      "Number of records with invalid 'Case Number' format: 1\n",
      "Number of remaining rows: 261524\n"
     ]
    }
   ],
   "execution_count": 43
  },
  {
   "metadata": {},
   "cell_type": "markdown",
   "source": "24. \"Create a new column IDXYEAR for each row by multiplying the ID with the YEAR column. Print out the first five values of IDXYEAR.\"",
   "id": "8a494c1b65465392"
  },
  {
   "metadata": {
    "ExecuteTime": {
     "end_time": "2024-12-14T23:21:33.809094Z",
     "start_time": "2024-12-14T23:21:31.424627Z"
    }
   },
   "cell_type": "code",
   "source": [
    "# Load the CSV file\n",
    "data = pd.read_csv('../datasets/research/Crimes_-_2019.csv')\n",
    "\n",
    "# Ensure 'ID' and 'Year' columns exist\n",
    "if 'ID' in data.columns and 'Year' in data.columns:\n",
    "    # Create a new column 'IDXYEAR' by multiplying 'ID' with 'Year'\n",
    "    data['IDXYEAR'] = data['ID'] * data['Year']\n",
    "    \n",
    "    # Print the first five values of 'IDXYEAR' as an array\n",
    "    idxyear_array = data['IDXYEAR'].head().to_list()\n",
    "    print(idxyear_array)"
   ],
   "id": "b7fb31c4efd916fe",
   "outputs": [
    {
     "name": "stdout",
     "output_type": "stream",
     "text": [
      "[23546419923, 26228572587, 23481971424, 23486027595, 23755404594]\n"
     ]
    }
   ],
   "execution_count": 45
  },
  {
   "metadata": {},
   "cell_type": "markdown",
   "source": "25. Group the data by crime type and calculate the percentage of each group rounded to two values after the comma. Then calculate the difference of the group with the largest and the smallest percentage. Print out this delta percentage rounded to one value after the comma.",
   "id": "15610bc07a469d63"
  },
  {
   "metadata": {
    "ExecuteTime": {
     "end_time": "2024-12-14T23:24:17.300174Z",
     "start_time": "2024-12-14T23:24:15.301426Z"
    }
   },
   "cell_type": "code",
   "source": [
    "import pandas as pd\n",
    "\n",
    "# Load the CSV file\n",
    "data = pd.read_csv('../datasets/research/Crimes_-_2019.csv')\n",
    "\n",
    "# Group the data by 'Primary Type' and calculate the size of each group\n",
    "crime_counts = data['Primary Type'].value_counts(normalize=True) * 100\n",
    "\n",
    "# Round each percentage to two decimal places\n",
    "crime_percentages = crime_counts.round(2)\n",
    "\n",
    "# Calculate the difference between the largest and smallest percentage\n",
    "delta_percentage = round(crime_percentages.max() - crime_percentages.min(), 1)\n",
    "\n",
    "print(f\"Delta percentage (difference between largest and smallest percentage): {delta_percentage}\")"
   ],
   "id": "337127394af83db",
   "outputs": [
    {
     "name": "stdout",
     "output_type": "stream",
     "text": [
      "Delta percentage (difference between largest and smallest percentage): 23.9\n"
     ]
    }
   ],
   "execution_count": 46
  },
  {
   "metadata": {},
   "cell_type": "markdown",
   "source": "26. \"Create a new column IDXYEAR for each row by multiplying the ID with the YEAR column. Print out the average of IDXYEAR over all rows.\"",
   "id": "c0451a9bb4e357a3"
  },
  {
   "metadata": {
    "ExecuteTime": {
     "end_time": "2024-12-14T23:25:54.363599Z",
     "start_time": "2024-12-14T23:25:52.326157Z"
    }
   },
   "cell_type": "code",
   "source": [
    "import pandas as pd\n",
    "\n",
    "# Load the CSV file\n",
    "data = pd.read_csv('../datasets/research/Crimes_-_2019.csv')\n",
    "\n",
    "# Create a new column 'IDXYEAR' by multiplying 'ID' with 'Year'\n",
    "data['IDXYEAR'] = data['ID'] * data['Year']\n",
    "\n",
    "# Calculate and print the average of 'IDXYEAR' over all rows, rounded to two decimal places\n",
    "average_idxyear = round(data['IDXYEAR'].mean(), 2)\n",
    "\n",
    "print(f\"Average of IDXYEAR: {average_idxyear}\")\n"
   ],
   "id": "7805e0c983cc9dd8",
   "outputs": [
    {
     "name": "stdout",
     "output_type": "stream",
     "text": [
      "Average of IDXYEAR: 23688888976.91\n"
     ]
    }
   ],
   "execution_count": 48
  },
  {
   "metadata": {},
   "cell_type": "markdown",
   "source": "27. \"Create a new column IDXYEAR for each row by multiplying the ID with the YEAR column. Does it make sense to create such a new column, answer with YES or NO.\"",
   "id": "7f2f30056fc15b7a"
  },
  {
   "metadata": {},
   "cell_type": "code",
   "outputs": [],
   "execution_count": null,
   "source": [
    "# this is a reasoning question\n",
    "print(\"NO\")"
   ],
   "id": "c789d107af549f56"
  },
  {
   "metadata": {},
   "cell_type": "markdown",
   "source": "28. Create a new column ArrestProbabilityForCrime by calculating the average Arrests for the commited crime type. Does such a value make sense?",
   "id": "7e13a1657e868057"
  },
  {
   "metadata": {},
   "cell_type": "code",
   "outputs": [],
   "execution_count": null,
   "source": [
    "# this is a reasoning question\n",
    "print(\"YES\")"
   ],
   "id": "f29c2c958f8b342"
  },
  {
   "metadata": {},
   "cell_type": "markdown",
   "source": "29. Create a new column CommunityCrimeRate by dividing 'Community Area' by 'District'. Does it make sense to create such a new column, answer with YES or NO.",
   "id": "17322e7cf562e5a3"
  },
  {
   "metadata": {},
   "cell_type": "code",
   "outputs": [],
   "execution_count": null,
   "source": [
    "# this is a reasoning question\n",
    "print(\"NO\")"
   ],
   "id": "5d7c1b489479ab87"
  },
  {
   "metadata": {},
   "cell_type": "markdown",
   "source": "30. If the 'Year' column contains only one unique value (e.g., 2019), should it be retained as a feature in the dataset? Provide a 'Yes' or 'No' answer and justify your reasoning.",
   "id": "2a7ef232e1020910"
  },
  {
   "metadata": {},
   "cell_type": "code",
   "outputs": [],
   "execution_count": null,
   "source": [
    "# this is a reasoning question\n",
    "print(\"NO\")"
   ],
   "id": "578af1b37180d85d"
  },
  {
   "metadata": {},
   "cell_type": "markdown",
   "source": "31. Should missing values in the 'Latitude' and 'Longitude' columns be imputed using the mean of each column? Provide a 'Yes' or 'No' answer and justify your response.",
   "id": "7a829e58a029e970"
  },
  {
   "metadata": {},
   "cell_type": "code",
   "outputs": [],
   "execution_count": null,
   "source": [
    "# this is a reasoning question\n",
    "print(\"NO\")"
   ],
   "id": "edd3389a23c8c14b"
  },
  {
   "metadata": {},
   "cell_type": "markdown",
   "source": "32. Classify the following crimes as 'Violent' or 'Non-Violent': 'Robbery', 'Burglary', 'Sexual Assault', 'Theft', 'Homicide', and 'Fraud'. Provide your answer as a dictionary with the crime as the key and 'Violent' or 'Non-Violent' as the value.",
   "id": "bd83c52ceb5a88e7"
  },
  {
   "metadata": {},
   "cell_type": "code",
   "outputs": [],
   "execution_count": null,
   "source": [
    "# this is a reasoning question\n",
    "print(\"{'Robbery': 'Violent','Burglary': 'Non-Violent','Sexual Assault': 'Violent','Theft': 'Non-Violent','Homicide': 'Violent','Fraud': 'Non-Violent'}\")"
   ],
   "id": "5e6f25d8c40be57"
  },
  {
   "metadata": {},
   "cell_type": "markdown",
   "source": "34. \"Which non-violent crime and which violent crime occur the most in the dataset? Print the results as 'Most Frequent Violent Crime: X' and 'Most Frequent Non-Violent Crime: Y'.\"",
   "id": "3c61e08c81c0ba16"
  },
  {
   "metadata": {
    "ExecuteTime": {
     "end_time": "2024-12-14T23:41:30.003010Z",
     "start_time": "2024-12-14T23:41:27.535239Z"
    }
   },
   "cell_type": "code",
   "source": [
    "import pandas as pd\n",
    "\n",
    "# Load the CSV file\n",
    "data = pd.read_csv('../datasets/research/Crimes_-_2019.csv')\n",
    "\n",
    "# Count the occurrences of each 'Primary Type'\n",
    "primary_type_counts = data['Primary Type'].value_counts()\n",
    "\n",
    "# Classify crimes as violent or non-violent\n",
    "violent_crimes = {'HOMICIDE', 'ASSAULT', 'ROBBERY', 'BATTERY', 'CRIMINAL SEXUAL ASSAULT', 'SEX OFFENSE', 'KIDNAPPING', 'STALKING', 'INTIMIDATION'}\n",
    "non_violent_crimes = set(primary_type_counts.index) - violent_crimes\n",
    "\n",
    "# Get the most frequent violent crime\n",
    "most_frequent_violent_crime = primary_type_counts.loc[list(violent_crimes)].idxmax()\n",
    "\n",
    "# Get the most frequent non-violent crime\n",
    "most_frequent_non_violent_crime = primary_type_counts.loc[list(non_violent_crimes)].idxmax()\n",
    "\n",
    "# Print the results\n",
    "print(f\"Most Frequent Violent Crime: {most_frequent_violent_crime}\")\n",
    "print(f\"Most Frequent Non-Violent Crime: {most_frequent_non_violent_crime}\")\n"
   ],
   "id": "5af107db254f35d1",
   "outputs": [
    {
     "name": "stdout",
     "output_type": "stream",
     "text": [
      "Most Frequent Violent Crime: BATTERY\n",
      "Most Frequent Non-Violent Crime: THEFT\n"
     ]
    }
   ],
   "execution_count": 50
  }
 ],
 "metadata": {
  "kernelspec": {
   "display_name": "Python 3",
   "language": "python",
   "name": "python3"
  },
  "language_info": {
   "codemirror_mode": {
    "name": "ipython",
    "version": 2
   },
   "file_extension": ".py",
   "mimetype": "text/x-python",
   "name": "python",
   "nbconvert_exporter": "python",
   "pygments_lexer": "ipython2",
   "version": "2.7.6"
  }
 },
 "nbformat": 4,
 "nbformat_minor": 5
}
